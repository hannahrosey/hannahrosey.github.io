{
 "cells": [
  {
   "cell_type": "markdown",
   "metadata": {},
   "source": [
    "# Analyzing Fundraising Effectiveness\n",
    "### Data from Kaggle Challenge *Funding and Organization Mission*"
   ]
  },
  {
   "cell_type": "code",
   "execution_count": 116,
   "metadata": {
    "collapsed": false
   },
   "outputs": [
    {
     "name": "stdout",
     "output_type": "stream",
     "text": [
      "Once deleted, variables cannot be recovered. Proceed (y/[n])? y\n"
     ]
    }
   ],
   "source": [
    "%reset"
   ]
  },
  {
   "cell_type": "code",
   "execution_count": 137,
   "metadata": {
    "collapsed": true
   },
   "outputs": [],
   "source": [
    "import os\n",
    "import json\n",
    "import pandas as pd\n",
    "import numpy as np\n",
    "import datetime as dt\n",
    "from datetime import date\n",
    "import requests\n",
    "import io\n",
    "import csv\n",
    "import plotly.plotly as py\n",
    "import plotly.figure_factory as ff\n",
    "import plotly.graph_objs as go\n",
    "from plotly import tools\n",
    "import matplotlib as plt\n",
    "import seaborn as sns"
   ]
  },
  {
   "cell_type": "markdown",
   "metadata": {},
   "source": [
    "### Define data preparation functions"
   ]
  },
  {
   "cell_type": "code",
   "execution_count": 118,
   "metadata": {
    "collapsed": true
   },
   "outputs": [],
   "source": [
    "# function to open, read in, and convert text file to pandas dataframe\n",
    "def txt_opener(filename,delim):\n",
    "    frame = []\n",
    "    with open(filename,'r') as f:\n",
    "        rows = (line.replace('\\n','').split(delim) for line in f)\n",
    "        frame = pd.DataFrame(rows)\n",
    "        frame.columns = frame.iloc[0]\n",
    "        frame = frame[1:]\n",
    "        \n",
    "    return frame    \n",
    "\n",
    "def get_zip_code_data():\n",
    "    # get FIPS codes for zips\n",
    "    zip_to_county = requests.get('http://www2.census.gov/geo/docs/maps-data/data/rel/zcta_county_rel_10.txt').text\n",
    "    \n",
    "    #iterate through file and create fips dataframe\n",
    "    rows = zip_to_county.split('\\n')\n",
    "    frame = []\n",
    "    for r in range(0,len(rows)):\n",
    "        row = rows[r].split(',')\n",
    "        map(lambda x: x.replace('\\n',''),row)\n",
    "        frame.append(row)\n",
    "    frame = pd.DataFrame(frame)\n",
    "    fips = frame\n",
    "    fips.columns = fips.iloc[0].apply(lambda x: str(x).lower())\n",
    "    fips = fips.drop(fips.index[0])\n",
    "    \n",
    "    return fips\n",
    "    \n",
    "def join_data(left,right):\n",
    "    \n",
    "    # join datasets\n",
    "    zframe = pd.merge(left,right,how='left',left_on='zip',right_on='zcta5')\n",
    "    \n",
    "    # change data type for numeric analysis fields\n",
    "    zframe.amount = zframe.amount.astype('float')\n",
    "    zframe.donated = zframe.donated.astype('float')\n",
    "    \n",
    "    # get state abbreviation data\n",
    "    states = requests.get('https://www2.census.gov/geo/docs/reference/state.txt').text.split('\\n')\n",
    "\n",
    "    # store state abbreviation data as a dictionary\n",
    "    state_dict = {}\n",
    "    for state in states:\n",
    "        key = str(state[0:2])\n",
    "        val = str(state[3:5])\n",
    "        state_dict[key] = val\n",
    "    \n",
    "    # map state abbreviation to each row of data\n",
    "    zframe['state_alpha'] = zframe['state'].map(state_dict)\n",
    "    \n",
    "    return zframe"
   ]
  },
  {
   "cell_type": "markdown",
   "metadata": {},
   "source": [
    "### Define data analysis and visualization functions"
   ]
  },
  {
   "cell_type": "code",
   "execution_count": 140,
   "metadata": {
    "collapsed": false
   },
   "outputs": [],
   "source": [
    "#def set_style():\n",
    "    \n",
    "    # set colorscale\n",
    "    \n",
    "def group_by_state(data):\n",
    "    \n",
    "    # group donation data by state; aggregate total donated and avg donation\n",
    "    states = data.groupby('state_alpha').agg({'amount':['sum','mean'],'donated':['sum','count']})\n",
    "    states['donors per thousand prospects'] = states['donated']['sum']/states['donated']['count']\n",
    "    top = states.index[0:3]\n",
    "    \n",
    "    return top, states\n",
    "    \n",
    "def prospects_and_donors_choropleth(states,style=None):\n",
    "    \n",
    "    # define data and layout for prospects per state choropleth\n",
    "    prospect_data = [dict(\n",
    "         type='choropleth',\n",
    "         locations = states.index,\n",
    "         z = states['donated']['count'],\n",
    "         locationmode = 'USA-states'\n",
    "     )]\n",
    "    \n",
    "    prospect_layout = dict(\n",
    "        title = 'Number of Prospects by State',\n",
    "        geo = dict(\n",
    "            scope='usa',\n",
    "            projection=dict(type='albers usa')\n",
    "        )\n",
    "    )\n",
    "\n",
    "    # return prospects per state choropleth\n",
    "    trace1 = dict(data=prospect_data, layout=prospect_layout)\n",
    "\n",
    "    # define data and layout for donors per thousand prospects choropleth\n",
    "    donor_data = [dict(\n",
    "         type='choropleth',\n",
    "         locations = states.index,\n",
    "         z = states['donors per thousand prospects'],\n",
    "         locationmode = 'USA-states'\n",
    "     )]\n",
    "    \n",
    "    donor_layout = dict(\n",
    "        title = 'Donors per Thousand Prospects',\n",
    "        geo = dict(\n",
    "            scope='usa',\n",
    "            projection=dict(type='albers usa')\n",
    "        )\n",
    "    )\n",
    "    \n",
    "    # return donors per thousand prospects choropleth\n",
    "    trace2 = dict(data=donor_data, layout=donor_layout)\n",
    "    \n",
    "    # return figs\n",
    "    return trace1, trace2\n",
    "\n",
    "def average_donation_histogram(data):\n",
    "\n",
    "    donation_histogram = [go.Histogram(data.amount)]\n",
    "    \n",
    "    return donation_histogram\n",
    "    \n",
    "def average_donation_by_phase(data):\n",
    "    \n",
    "    frames = []\n",
    "    \n",
    "    for p in dat.phase.unique():\n",
    "        f = dat[dat.phase==p]\n",
    "        frames.append(f)\n",
    "\n",
    "    traces = list(map(lambda x: 'trace' + str(x),frames))\n",
    "\n",
    "    plots = {}\n",
    "\n",
    "    for t in range(0,len(traces)):\n",
    "        key = traces[t]\n",
    "        val = go.Histogram(frames[t]['amount'],opacity=.75)\n",
    "        \n",
    "#def top_states_choropleth(top,style=None):\n",
    "    # group donation data in top 3 best performing counties by county; aggregate total donated and avg donation"
   ]
  },
  {
   "cell_type": "markdown",
   "metadata": {},
   "source": [
    "### Define init functions"
   ]
  },
  {
   "cell_type": "code",
   "execution_count": 152,
   "metadata": {
    "collapsed": false
   },
   "outputs": [],
   "source": [
    "def __init_prep__(path):\n",
    "    left = txt_opener(path,delim=',')\n",
    "    right = get_zip_code_data()\n",
    "    try:\n",
    "        dat = join_data(left=left,right=right)\n",
    "        return dat\n",
    "    except ValueError as e:\n",
    "        print(\"Could not join zipcodes to data; here's the sample on its own\")\n",
    "        print(e)\n",
    "        return left\n",
    "\n",
    "def __init_viz__(data):\n",
    "    top, states = group_by_state(data)\n",
    "    prospect_fig, donor_fig = prospects_and_donors_choropleth(states=states)\n",
    "    #hist_fig = average_donation_histogram(data=data)\n",
    "    return prospect_fig, donor_fig"
   ]
  },
  {
   "cell_type": "markdown",
   "metadata": {},
   "source": [
    "### Function call"
   ]
  },
  {
   "cell_type": "code",
   "execution_count": 123,
   "metadata": {
    "collapsed": false
   },
   "outputs": [
    {
     "ename": "NameError",
     "evalue": "global name 'state' is not defined",
     "output_type": "error",
     "traceback": [
      "\u001b[0;31m---------------------------------------------------------------------------\u001b[0m",
      "\u001b[0;31mNameError\u001b[0m                                 Traceback (most recent call last)",
      "\u001b[0;32m<ipython-input-123-4937dbcba498>\u001b[0m in \u001b[0;36m<module>\u001b[0;34m()\u001b[0m\n\u001b[1;32m      1\u001b[0m \u001b[0mdata\u001b[0m \u001b[0;34m=\u001b[0m \u001b[0m__init_prep__\u001b[0m\u001b[0;34m(\u001b[0m\u001b[0mpath\u001b[0m\u001b[0;34m=\u001b[0m\u001b[0;34m'competitions/Raising-Money-to-Fund-an-Organizational-Mission/training_sample.txt'\u001b[0m\u001b[0;34m)\u001b[0m\u001b[0;34m\u001b[0m\u001b[0m\n\u001b[0;32m----> 2\u001b[0;31m \u001b[0mchoropleth\u001b[0m\u001b[0;34m,\u001b[0m \u001b[0mdonation_hist\u001b[0m \u001b[0;34m=\u001b[0m \u001b[0m__init_viz__\u001b[0m\u001b[0;34m(\u001b[0m\u001b[0mdata\u001b[0m\u001b[0;34m=\u001b[0m\u001b[0mdata\u001b[0m\u001b[0;34m)\u001b[0m\u001b[0;34m\u001b[0m\u001b[0m\n\u001b[0m",
      "\u001b[0;32m<ipython-input-121-f2f4d3f9466f>\u001b[0m in \u001b[0;36m__init_viz__\u001b[0;34m(data)\u001b[0m\n\u001b[1;32m     11\u001b[0m \u001b[0;34m\u001b[0m\u001b[0m\n\u001b[1;32m     12\u001b[0m \u001b[0;32mdef\u001b[0m \u001b[0m__init_viz__\u001b[0m\u001b[0;34m(\u001b[0m\u001b[0mdata\u001b[0m\u001b[0;34m)\u001b[0m\u001b[0;34m:\u001b[0m\u001b[0;34m\u001b[0m\u001b[0m\n\u001b[0;32m---> 13\u001b[0;31m     \u001b[0mstates\u001b[0m \u001b[0;34m=\u001b[0m \u001b[0mgroup_by_state\u001b[0m\u001b[0;34m(\u001b[0m\u001b[0mdata\u001b[0m\u001b[0;34m)\u001b[0m\u001b[0;34m\u001b[0m\u001b[0m\n\u001b[0m\u001b[1;32m     14\u001b[0m     \u001b[0mprospect_fig\u001b[0m \u001b[0;34m=\u001b[0m \u001b[0mdonation_state_choropleth\u001b[0m\u001b[0;34m(\u001b[0m\u001b[0mstates\u001b[0m\u001b[0;34m=\u001b[0m\u001b[0mstates\u001b[0m\u001b[0;34m)\u001b[0m\u001b[0;34m\u001b[0m\u001b[0m\n\u001b[1;32m     15\u001b[0m     \u001b[0mdonor_fig\u001b[0m \u001b[0;34m=\u001b[0m \u001b[0mdonors_per_thousand_choropleth\u001b[0m\u001b[0;34m(\u001b[0m\u001b[0mstates\u001b[0m\u001b[0;34m=\u001b[0m\u001b[0mstates\u001b[0m\u001b[0;34m)\u001b[0m\u001b[0;34m\u001b[0m\u001b[0m\n",
      "\u001b[0;32m<ipython-input-119-9fe7b32227c7>\u001b[0m in \u001b[0;36mgroup_by_state\u001b[0;34m(data)\u001b[0m\n\u001b[1;32m      7\u001b[0m     \u001b[0;31m# group donation data by state; aggregate total donated and avg donation\u001b[0m\u001b[0;34m\u001b[0m\u001b[0;34m\u001b[0m\u001b[0m\n\u001b[1;32m      8\u001b[0m     \u001b[0mstates\u001b[0m \u001b[0;34m=\u001b[0m \u001b[0mdata\u001b[0m\u001b[0;34m.\u001b[0m\u001b[0mgroupby\u001b[0m\u001b[0;34m(\u001b[0m\u001b[0;34m'state_alpha'\u001b[0m\u001b[0;34m)\u001b[0m\u001b[0;34m.\u001b[0m\u001b[0magg\u001b[0m\u001b[0;34m(\u001b[0m\u001b[0;34m{\u001b[0m\u001b[0;34m'amount'\u001b[0m\u001b[0;34m:\u001b[0m\u001b[0;34m[\u001b[0m\u001b[0;34m'sum'\u001b[0m\u001b[0;34m,\u001b[0m\u001b[0;34m'mean'\u001b[0m\u001b[0;34m]\u001b[0m\u001b[0;34m,\u001b[0m\u001b[0;34m'donated'\u001b[0m\u001b[0;34m:\u001b[0m\u001b[0;34m[\u001b[0m\u001b[0;34m'sum'\u001b[0m\u001b[0;34m,\u001b[0m\u001b[0;34m'count'\u001b[0m\u001b[0;34m]\u001b[0m\u001b[0;34m}\u001b[0m\u001b[0;34m)\u001b[0m\u001b[0;34m\u001b[0m\u001b[0m\n\u001b[0;32m----> 9\u001b[0;31m     \u001b[0mstates\u001b[0m\u001b[0;34m[\u001b[0m\u001b[0;34m'donors per thousand prospects'\u001b[0m\u001b[0;34m]\u001b[0m \u001b[0;34m=\u001b[0m \u001b[0mstates\u001b[0m\u001b[0;34m[\u001b[0m\u001b[0;34m'donated'\u001b[0m\u001b[0;34m]\u001b[0m\u001b[0;34m[\u001b[0m\u001b[0;34m'sum'\u001b[0m\u001b[0;34m]\u001b[0m\u001b[0;34m/\u001b[0m\u001b[0mstate\u001b[0m\u001b[0;34m[\u001b[0m\u001b[0;34m'donated'\u001b[0m\u001b[0;34m]\u001b[0m\u001b[0;34m[\u001b[0m\u001b[0;34m'count'\u001b[0m\u001b[0;34m]\u001b[0m\u001b[0;34m\u001b[0m\u001b[0m\n\u001b[0m\u001b[1;32m     10\u001b[0m     \u001b[0mtop\u001b[0m \u001b[0;34m=\u001b[0m \u001b[0mstate\u001b[0m\u001b[0;34m.\u001b[0m\u001b[0mindex\u001b[0m\u001b[0;34m[\u001b[0m\u001b[0;36m0\u001b[0m\u001b[0;34m:\u001b[0m\u001b[0;36m3\u001b[0m\u001b[0;34m]\u001b[0m\u001b[0;34m\u001b[0m\u001b[0m\n\u001b[1;32m     11\u001b[0m \u001b[0;34m\u001b[0m\u001b[0m\n",
      "\u001b[0;31mNameError\u001b[0m: global name 'state' is not defined"
     ]
    }
   ],
   "source": [
    "data = __init_prep__(path='competitions/Raising-Money-to-Fund-an-Organizational-Mission/training_sample.txt')"
   ]
  },
  {
   "cell_type": "code",
   "execution_count": 156,
   "metadata": {
    "collapsed": false
   },
   "outputs": [],
   "source": [
    "prospect_fig, donor_fig = __init_viz__(data=data)"
   ]
  },
  {
   "cell_type": "code",
   "execution_count": 157,
   "metadata": {
    "collapsed": false
   },
   "outputs": [
    {
     "data": {
      "text/html": [
       "<iframe id=\"igraph\" scrolling=\"no\" style=\"border:none;\" seamless=\"seamless\" src=\"https://plot.ly/~hrg2117/29.embed\" height=\"525px\" width=\"100%\"></iframe>"
      ],
      "text/plain": [
       "<plotly.tools.PlotlyDisplay object>"
      ]
     },
     "execution_count": 157,
     "metadata": {},
     "output_type": "execute_result"
    }
   ],
   "source": [
    "py.iplot(prospect_fig, filename='fundraising_data_choropleth')"
   ]
  },
  {
   "cell_type": "code",
   "execution_count": 155,
   "metadata": {
    "collapsed": false
   },
   "outputs": [
    {
     "data": {
      "text/html": [
       "<iframe id=\"igraph\" scrolling=\"no\" style=\"border:none;\" seamless=\"seamless\" src=\"https://plot.ly/~hrg2117/29.embed\" height=\"525px\" width=\"100%\"></iframe>"
      ],
      "text/plain": [
       "<plotly.tools.PlotlyDisplay object>"
      ]
     },
     "execution_count": 155,
     "metadata": {},
     "output_type": "execute_result"
    }
   ],
   "source": [
    "py.iplot(donor_fig, filename='fundraising_data_choropleth')"
   ]
  }
 ],
 "metadata": {
  "kernelspec": {
   "display_name": "Python 2",
   "language": "python",
   "name": "python2"
  },
  "language_info": {
   "codemirror_mode": {
    "name": "ipython",
    "version": 2
   },
   "file_extension": ".py",
   "mimetype": "text/x-python",
   "name": "python",
   "nbconvert_exporter": "python",
   "pygments_lexer": "ipython2",
   "version": "2.7.13"
  }
 },
 "nbformat": 4,
 "nbformat_minor": 2
}
